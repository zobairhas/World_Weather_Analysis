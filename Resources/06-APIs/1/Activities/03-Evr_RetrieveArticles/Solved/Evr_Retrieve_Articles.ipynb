{
 "cells": [
  {
   "cell_type": "code",
   "execution_count": 1,
   "metadata": {},
   "outputs": [],
   "source": [
    "# Dependencies\n",
    "import requests\n",
    "from config import api_key\n",
    "import time\n",
    "import pprint\n",
    "\n",
    "url = \"https://api.nytimes.com/svc/search/v2/articlesearch.json?\"\n",
    "\n",
    "# Store a search term\n",
    "query = \"coronavirus\"\n",
    "\n",
    "# Search for articles published between a begin and end date\n",
    "begin_date = \"20200101\"\n",
    "end_date = \"20200130\"\n",
    "\n",
    "query_url = f\"{url}api-key={api_key}&q={query}&begin_date={begin_date}&end_date={end_date}\""
   ]
  },
  {
   "cell_type": "code",
   "execution_count": 4,
   "metadata": {},
   "outputs": [
    {
     "name": "stdout",
     "output_type": "stream",
     "text": [
      "A snippet from the article: The virus has infected and killed millions of people around the world. See detailed maps and charts for each country.\n",
      "---------------------------\n",
      "\n",
      "A snippet from the article: A respiratory virus that originated in China has infected more than 900,000 people worldwide, with at least 200,000 cases in the United States.\n",
      "---------------------------\n",
      "\n",
      "A snippet from the article: Distrust in science and institutions could be a major problem if the outbreak worsens.\n",
      "---------------------------\n",
      "\n",
      "A snippet from the article: The city's health commissioner has urged calm as cases of the dangerous new coronavirus crop up in a number of states. \n",
      "---------------------------\n",
      "\n",
      "A snippet from the article: It may have started with a bat in a cave, but human activity set it loose.\n",
      "---------------------------\n",
      "\n",
      "A snippet from the article: In Queens, some who recently returned from China have even self-quarantined. But officials have urged calm.\n",
      "---------------------------\n",
      "\n",
      "A snippet from the article: Public health experts explain the risks and what we still don’t know.\n",
      "---------------------------\n",
      "\n",
      "A snippet from the article: Lunar New Year celebrations have taken on a muted feel.\n",
      "---------------------------\n",
      "\n",
      "A snippet from the article: Investors have been worried that the mysterious epidemic in China could hurt economic growth.\n",
      "---------------------------\n",
      "\n",
      "A snippet from the article: The disease outbreak in China continues to spook investors around the world, though fears appear to be moderating slightly.\n",
      "---------------------------\n",
      "\n"
     ]
    }
   ],
   "source": [
    "# Retrieve articles\n",
    "articles = requests.get(query_url).json()\n",
    "articles_list = articles[\"response\"][\"docs\"]\n",
    "\n",
    "for article in articles_list:\n",
    "    print(f'A snippet from the article: {article[\"snippet\"]}')\n",
    "    print('---------------------------\\n')"
   ]
  },
  {
   "cell_type": "code",
   "execution_count": 5,
   "metadata": {},
   "outputs": [
    {
     "name": "stdout",
     "output_type": "stream",
     "text": [
      "Your Reading List\n",
      "https://www.nytimes.com/interactive/2021/world/covid-cases.html\n",
      "https://www.nytimes.com/article/what-is-coronavirus.html\n",
      "https://www.nytimes.com/2020/01/29/opinion/coronavirus-outbreak.html\n",
      "https://www.nytimes.com/2020/01/28/nyregion/coronavirus-nyc.html\n",
      "https://www.nytimes.com/2020/01/28/opinion/coronavirus-china.html\n",
      "https://www.nytimes.com/2020/01/27/nyregion/new-york-city-coronavirus.html\n",
      "https://www.nytimes.com/2020/01/28/opinion/coronavirus-risk.html\n",
      "https://www.nytimes.com/2020/01/30/nyregion/coronavirus-chinatown-museum-fire.html\n",
      "https://www.nytimes.com/2020/01/28/business/coronavirus-financial-markets.html\n",
      "https://www.nytimes.com/2020/01/28/business/dealbook/coronavirus-economy-stocks.html\n"
     ]
    }
   ],
   "source": [
    "# Print the web_url of each stored article\n",
    "print(\"Your Reading List\")\n",
    "for article in articles_list:\n",
    "    print(article[\"web_url\"])"
   ]
  },
  {
   "cell_type": "code",
   "execution_count": null,
   "metadata": {},
   "outputs": [],
   "source": [
    "# BONUS: How would we get 30 results? \n",
    "# HINT: Look up the page query param\n",
    "\n",
    "# Empty list for articles\n",
    "articles_list = []\n",
    "\n",
    "# loop through pages 0-2\n",
    "for page in range(0, 3):\n",
    "    query_url = f\"{url}api-key={api_key}&q={query}&begin_date={begin_date}&end_date={end_date}\"\n",
    "    # create query with page number\n",
    "    query_url = f\"{query_url}&page={str(page)}\"\n",
    "    articles = requests.get(query_url).json()\n",
    "    \n",
    "    # Add a one second interval between queries to stay within API query limits\n",
    "    time.sleep(1)\n",
    "    # loop through the response and append each article to the list\n",
    "    for article in articles[\"response\"][\"docs\"]:\n",
    "        articles_list.append(article)"
   ]
  },
  {
   "cell_type": "code",
   "execution_count": null,
   "metadata": {},
   "outputs": [],
   "source": [
    "for article in articles_list:\n",
    "    print(article['snippet'])\n",
    "    print('---------------------------')"
   ]
  },
  {
   "cell_type": "code",
   "execution_count": null,
   "metadata": {},
   "outputs": [],
   "source": []
  }
 ],
 "metadata": {
  "kernelspec": {
   "display_name": "Python 3 (ipykernel)",
   "language": "python",
   "name": "python3"
  },
  "language_info": {
   "codemirror_mode": {
    "name": "ipython",
    "version": 3
   },
   "file_extension": ".py",
   "mimetype": "text/x-python",
   "name": "python",
   "nbconvert_exporter": "python",
   "pygments_lexer": "ipython3",
   "version": "3.7.11"
  },
  "varInspector": {
   "cols": {
    "lenName": 16,
    "lenType": 16,
    "lenVar": 40
   },
   "kernels_config": {
    "python": {
     "delete_cmd_postfix": "",
     "delete_cmd_prefix": "del ",
     "library": "var_list.py",
     "varRefreshCmd": "print(var_dic_list())"
    },
    "r": {
     "delete_cmd_postfix": ") ",
     "delete_cmd_prefix": "rm(",
     "library": "var_list.r",
     "varRefreshCmd": "cat(var_dic_list()) "
    }
   },
   "types_to_exclude": [
    "module",
    "function",
    "builtin_function_or_method",
    "instance",
    "_Feature"
   ],
   "window_display": false
  }
 },
 "nbformat": 4,
 "nbformat_minor": 2
}
