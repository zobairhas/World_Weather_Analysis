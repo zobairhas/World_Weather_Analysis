{
 "cells": [
  {
   "cell_type": "code",
   "execution_count": 1,
   "id": "887cc293",
   "metadata": {},
   "outputs": [],
   "source": [
    "import random\n",
    "import numpy as np\n",
    "import timeit"
   ]
  },
  {
   "cell_type": "code",
   "execution_count": 2,
   "id": "1ec4a621",
   "metadata": {},
   "outputs": [
    {
     "data": {
      "text/plain": [
       "0.15629439543123647"
      ]
     },
     "execution_count": 2,
     "metadata": {},
     "output_type": "execute_result"
    }
   ],
   "source": [
    "# random() function will generate a single floating point decimal between 0 and 1.0\n",
    "random.random()"
   ]
  },
  {
   "cell_type": "code",
   "execution_count": 3,
   "id": "db9ee1e1",
   "metadata": {},
   "outputs": [
    {
     "data": {
      "text/plain": [
       "9"
      ]
     },
     "execution_count": 3,
     "metadata": {},
     "output_type": "execute_result"
    }
   ],
   "source": [
    "# short for random integer; will generate a single integer between -10 and 10\n",
    "random.randint(-10, 10)"
   ]
  },
  {
   "cell_type": "code",
   "execution_count": 4,
   "id": "9ef7d349",
   "metadata": {},
   "outputs": [
    {
     "data": {
      "text/plain": [
       "-5"
      ]
     },
     "execution_count": 4,
     "metadata": {},
     "output_type": "execute_result"
    }
   ],
   "source": [
    "random.randrange(-9, 9, 2)"
   ]
  },
  {
   "cell_type": "code",
   "execution_count": 5,
   "id": "ab66c367",
   "metadata": {},
   "outputs": [
    {
     "data": {
      "text/plain": [
       "-3.7181470026503334"
      ]
     },
     "execution_count": 5,
     "metadata": {},
     "output_type": "execute_result"
    }
   ],
   "source": [
    "random.uniform(-10, 10)"
   ]
  },
  {
   "cell_type": "code",
   "execution_count": 6,
   "id": "991e79a8",
   "metadata": {},
   "outputs": [
    {
     "data": {
      "text/plain": [
       "-49.48686829655643"
      ]
     },
     "execution_count": 6,
     "metadata": {},
     "output_type": "execute_result"
    }
   ],
   "source": [
    "# this will generate a random floating-point decimal between -90 and 90\n",
    "# basically, a random latitude will be generated\n",
    "random_number = random.randint(-90, 89) + random.random()\n",
    "random_number"
   ]
  },
  {
   "cell_type": "code",
   "execution_count": 7,
   "id": "9d678670",
   "metadata": {},
   "outputs": [
    {
     "data": {
      "text/plain": [
       "[-64.6705970023602,\n",
       " 64.03649676872661,\n",
       " 43.045788615479424,\n",
       " 10.871152457405207,\n",
       " -49.06700610903984,\n",
       " 76.40740807522629,\n",
       " -19.72491688665448,\n",
       " 54.68913269324686,\n",
       " -21.778653470741947,\n",
       " -25.493030468966072]"
      ]
     },
     "execution_count": 7,
     "metadata": {},
     "output_type": "execute_result"
    }
   ],
   "source": [
    "x = 1\n",
    "latitudes = []\n",
    "while x < 11:\n",
    "    random_lat = random.randint(-90, 89) + random.random()\n",
    "    latitudes.append(random_lat)\n",
    "    x += 1\n",
    "\n",
    "latitudes"
   ]
  },
  {
   "cell_type": "code",
   "execution_count": 8,
   "id": "04a71c38",
   "metadata": {},
   "outputs": [
    {
     "data": {
      "text/plain": [
       "58.17591912988641"
      ]
     },
     "execution_count": 8,
     "metadata": {},
     "output_type": "execute_result"
    }
   ],
   "source": [
    "# uniform() function allow us to generate a floating-point decimal number between two given numbers\n",
    "random.uniform(-90, 90)"
   ]
  },
  {
   "cell_type": "code",
   "execution_count": 9,
   "id": "328bded0",
   "metadata": {},
   "outputs": [
    {
     "data": {
      "text/plain": [
       "-13.211065726014795"
      ]
     },
     "execution_count": 9,
     "metadata": {},
     "output_type": "execute_result"
    }
   ],
   "source": [
    "np.random.uniform(-90, 90)"
   ]
  },
  {
   "cell_type": "code",
   "execution_count": 10,
   "id": "a8953f51",
   "metadata": {},
   "outputs": [
    {
     "data": {
      "text/plain": [
       "array([ 69.96637008, -45.68998329, -40.43334248, -75.49337621,\n",
       "       -12.42414806, -87.45318281,  46.0246126 ,  75.56090308,\n",
       "        35.25242316, -35.1842698 ,  75.38987576, -19.90478046,\n",
       "        87.00319157, -89.01460753,  71.79291912, -76.38795268,\n",
       "       -47.69225797, -18.1902725 , -71.30708982,  29.14822913,\n",
       "       -21.93517377, -50.50904748,  17.58875462, -41.04487337,\n",
       "        33.29309277,  47.34408591,  17.17024603,  58.92320078,\n",
       "        12.04978955,   4.15678609, -51.01098074, -17.08664565,\n",
       "        39.86673166,  15.23323316,  -9.61958177,  42.17748957,\n",
       "       -88.24978846,  49.84012042,  42.82527856, -52.26508665,\n",
       "        46.55530527, -76.85964226,  89.71169909, -61.04987625,\n",
       "        63.06718726,  -7.99261554, -26.19686536, -65.76898061,\n",
       "       -12.00995982,   5.56346669])"
      ]
     },
     "execution_count": 10,
     "metadata": {},
     "output_type": "execute_result"
    }
   ],
   "source": [
    "np.random.uniform(-90.000, 90.000, size=50)"
   ]
  },
  {
   "cell_type": "code",
   "execution_count": 11,
   "id": "0d1f9977",
   "metadata": {},
   "outputs": [
    {
     "name": "stdout",
     "output_type": "stream",
     "text": [
      "14.6 µs ± 338 ns per loop (mean ± std. dev. of 7 runs, 100000 loops each)\n"
     ]
    }
   ],
   "source": [
    "%timeit np.random.uniform(-90.000, 90.000, size=1500)"
   ]
  },
  {
   "cell_type": "code",
   "execution_count": 12,
   "id": "b1b57fcd",
   "metadata": {},
   "outputs": [
    {
     "name": "stdout",
     "output_type": "stream",
     "text": [
      "1.93 ms ± 67.1 µs per loop (mean ± std. dev. of 7 runs, 1000 loops each)\n"
     ]
    }
   ],
   "source": [
    "def latitudes(size):\n",
    "    latitudes = []\n",
    "    x = 0\n",
    "    while x < (size):\n",
    "        random_lat = random.randint(-90, 90) + random.random()\n",
    "        latitudes.append(random_lat)\n",
    "        x += 1\n",
    "    return latitudes\n",
    "# Call the function with 1500.\n",
    "%timeit latitudes(1500)"
   ]
  },
  {
   "cell_type": "code",
   "execution_count": 15,
   "id": "312d193b",
   "metadata": {},
   "outputs": [
    {
     "ename": "IndentationError",
     "evalue": "expected an indented block (Temp/ipykernel_3792/3141983595.py, line 5)",
     "output_type": "error",
     "traceback": [
      "\u001b[1;36m  File \u001b[1;32m\"C:\\Users\\zobai\\AppData\\Local\\Temp/ipykernel_3792/3141983595.py\"\u001b[1;36m, line \u001b[1;32m5\u001b[0m\n\u001b[1;33m    random_lat = random.randint(-90, 89) + random.random()\u001b[0m\n\u001b[1;37m             ^\u001b[0m\n\u001b[1;31mIndentationError\u001b[0m\u001b[1;31m:\u001b[0m expected an indented block\n"
     ]
    }
   ],
   "source": [
    "x = 1\n",
    "latitudes = []\n",
    "\n",
    "for i in latitudes:\n",
    "random_lat = random.randint(-90, 89) + random.random()\n",
    "latitudes.append(random_lat)\n",
    "   print(latitudes) "
   ]
  },
  {
   "cell_type": "code",
   "execution_count": null,
   "id": "07ccd6a1",
   "metadata": {},
   "outputs": [],
   "source": []
  }
 ],
 "metadata": {
  "kernelspec": {
   "display_name": "PythonData",
   "language": "python",
   "name": "pythondata"
  },
  "language_info": {
   "codemirror_mode": {
    "name": "ipython",
    "version": 3
   },
   "file_extension": ".py",
   "mimetype": "text/x-python",
   "name": "python",
   "nbconvert_exporter": "python",
   "pygments_lexer": "ipython3",
   "version": "3.7.11"
  }
 },
 "nbformat": 4,
 "nbformat_minor": 5
}
